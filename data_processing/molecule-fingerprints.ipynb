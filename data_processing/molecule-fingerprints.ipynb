{
 "cells": [
  {
   "cell_type": "code",
   "execution_count": 1,
   "metadata": {},
   "outputs": [],
   "source": [
    "import pybel"
   ]
  },
  {
   "cell_type": "code",
   "execution_count": 2,
   "metadata": {},
   "outputs": [],
   "source": [
    "mol1 = pybel.readstring(\"smi\", \"CCCC\") # butane\n",
    "mol2 = pybel.readstring(\"smi\", \"C(O)CCC\") # 1-butanol"
   ]
  },
  {
   "cell_type": "code",
   "execution_count": 3,
   "metadata": {},
   "outputs": [],
   "source": [
    "fp1 = mol1.calcfp()\n",
    "fp2 = mol2.calcfp()"
   ]
  },
  {
   "cell_type": "code",
   "execution_count": 4,
   "metadata": {},
   "outputs": [
    {
     "data": {
      "text/plain": [
       "<pybel.Fingerprint at 0x7f285c0b9780>"
      ]
     },
     "execution_count": 4,
     "metadata": {},
     "output_type": "execute_result"
    }
   ],
   "source": [
    "fp1"
   ]
  },
  {
   "cell_type": "code",
   "execution_count": 5,
   "metadata": {},
   "outputs": [
    {
     "name": "stdout",
     "output_type": "stream",
     "text": [
      "0, 0, 0, 0, 0, 0, 0, 0, 16, 0, 0, 0, 1, 0, 0, 0, 0, 0, 0, 0, 1073741824, 0, 0, 0, 0, 0, 0, 0, 0, 0, 0, 0\n"
     ]
    }
   ],
   "source": [
    "print(fp1)"
   ]
  },
  {
   "cell_type": "code",
   "execution_count": 6,
   "metadata": {},
   "outputs": [
    {
     "name": "stdout",
     "output_type": "stream",
     "text": [
      "0, 0, 0, 0, 0, 0, 0, 0, 16, 16777216, 0, 0, 1, 4194304, 0, 0, 524296, 0, 0, 0, 1073741824, 0, 0, 0, 0, 0, 0, 0, 0, 0, 0, 0\n"
     ]
    }
   ],
   "source": [
    "print(fp2)"
   ]
  },
  {
   "cell_type": "code",
   "execution_count": 7,
   "metadata": {},
   "outputs": [
    {
     "name": "stdout",
     "output_type": "stream",
     "text": [
      "0.42857142857142855\n"
     ]
    }
   ],
   "source": [
    "# Tanimoto coefficient of two Fingerprints, calculated using the | operator.\n",
    "print(fp1|fp2)"
   ]
  },
  {
   "cell_type": "code",
   "execution_count": 8,
   "metadata": {},
   "outputs": [
    {
     "name": "stdout",
     "output_type": "stream",
     "text": [
      "0.3333333333333333\n"
     ]
    }
   ],
   "source": [
    "# example from pybel documentation\n",
    "# https://openbabel.org/docs/dev/UseTheLibrary/Python_Pybel.html#id2\n",
    "smiles = ['CCCC', 'CCCN']\n",
    "mols = [pybel.readstring(\"smi\", x) for x in smiles] # Create a list of two molecules\n",
    "fps = [x.calcfp() for x in mols] # Calculate their fingerprints\n",
    "print(fps[0] | fps[1]) # Print the Tanimoto coefficient\n",
    "#0.3333"
   ]
  },
  {
   "cell_type": "code",
   "execution_count": 11,
   "metadata": {},
   "outputs": [],
   "source": [
    "fp1_fp3 = mol1.calcfp(\"FP3\")\n",
    "fp2_fp3 = mol2.calcfp(\"FP3\")\n",
    "print(fp1_fp3)\n",
    "print(fp2_fp3)"
   ]
  },
  {
   "cell_type": "code",
   "execution_count": 13,
   "metadata": {},
   "outputs": [
    {
     "name": "stdout",
     "output_type": "stream",
     "text": [
      "3, 0, 0, 0, 0, 0, 0, 0, 0, 8192, 0, 0, 0, 0, 0, 0\n",
      "6147, 0, 0, 0, 0, 0, 0, 0, 0, 8256, 0, 0, 0, 0, 0, 0\n"
     ]
    }
   ],
   "source": [
    "fp1_fp4 = mol1.calcfp(\"FP4\")\n",
    "fp2_fp4 = mol2.calcfp(\"FP4\")\n",
    "print(fp1_fp4)\n",
    "print(fp2_fp4)"
   ]
  },
  {
   "cell_type": "code",
   "execution_count": null,
   "metadata": {},
   "outputs": [],
   "source": []
  }
 ],
 "metadata": {
  "kernelspec": {
   "display_name": "Python 3",
   "language": "python",
   "name": "python3"
  },
  "language_info": {
   "codemirror_mode": {
    "name": "ipython",
    "version": 3
   },
   "file_extension": ".py",
   "mimetype": "text/x-python",
   "name": "python",
   "nbconvert_exporter": "python",
   "pygments_lexer": "ipython3",
   "version": "3.6.8"
  }
 },
 "nbformat": 4,
 "nbformat_minor": 2
}
